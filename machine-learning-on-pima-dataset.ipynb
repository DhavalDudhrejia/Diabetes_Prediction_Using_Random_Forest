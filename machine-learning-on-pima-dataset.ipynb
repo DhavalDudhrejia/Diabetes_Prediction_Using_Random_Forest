{
 "cells": [
  {
   "cell_type": "markdown",
   "metadata": {
    "papermill": {
     "duration": 0.015267,
     "end_time": "2021-05-18T11:47:45.194010",
     "exception": false,
     "start_time": "2021-05-18T11:47:45.178743",
     "status": "completed"
    },
    "tags": []
   },
   "source": [
    "# Part-1 Data Preprocessing"
   ]
  },
  {
   "cell_type": "markdown",
   "metadata": {
    "papermill": {
     "duration": 0.014571,
     "end_time": "2021-05-18T11:47:45.223452",
     "exception": false,
     "start_time": "2021-05-18T11:47:45.208881",
     "status": "completed"
    },
    "tags": []
   },
   "source": [
    "Importing the required libraries"
   ]
  },
  {
   "cell_type": "code",
   "execution_count": 2,
   "metadata": {
    "execution": {
     "iopub.execute_input": "2021-05-18T11:47:45.259435Z",
     "iopub.status.busy": "2021-05-18T11:47:45.258791Z",
     "iopub.status.idle": "2021-05-18T11:47:46.100350Z",
     "shell.execute_reply": "2021-05-18T11:47:46.099685Z"
    },
    "papermill": {
     "duration": 0.860811,
     "end_time": "2021-05-18T11:47:46.100494",
     "exception": false,
     "start_time": "2021-05-18T11:47:45.239683",
     "status": "completed"
    },
    "tags": []
   },
   "outputs": [],
   "source": [
    "import pandas as pd\n",
    "import numpy as np\n",
    "import seaborn as sns\n",
    "import matplotlib.pyplot as plt"
   ]
  },
  {
   "cell_type": "markdown",
   "metadata": {
    "papermill": {
     "duration": 0.015133,
     "end_time": "2021-05-18T11:47:46.131008",
     "exception": false,
     "start_time": "2021-05-18T11:47:46.115875",
     "status": "completed"
    },
    "tags": []
   },
   "source": [
    "Loading the data"
   ]
  },
  {
   "cell_type": "code",
   "execution_count": 3,
   "metadata": {
    "execution": {
     "iopub.execute_input": "2021-05-18T11:47:46.166151Z",
     "iopub.status.busy": "2021-05-18T11:47:46.165500Z",
     "iopub.status.idle": "2021-05-18T11:47:46.182892Z",
     "shell.execute_reply": "2021-05-18T11:47:46.182239Z"
    },
    "papermill": {
     "duration": 0.036839,
     "end_time": "2021-05-18T11:47:46.183042",
     "exception": false,
     "start_time": "2021-05-18T11:47:46.146203",
     "status": "completed"
    },
    "tags": []
   },
   "outputs": [],
   "source": [
    "df=pd.read_csv('/kaggle/input/pima-indians-diabetes-database/diabetes.csv')"
   ]
  },
  {
   "cell_type": "code",
   "execution_count": 4,
   "metadata": {
    "execution": {
     "iopub.execute_input": "2021-05-18T11:47:46.225846Z",
     "iopub.status.busy": "2021-05-18T11:47:46.225064Z",
     "iopub.status.idle": "2021-05-18T11:47:46.243445Z",
     "shell.execute_reply": "2021-05-18T11:47:46.242968Z"
    },
    "papermill": {
     "duration": 0.045016,
     "end_time": "2021-05-18T11:47:46.243573",
     "exception": false,
     "start_time": "2021-05-18T11:47:46.198557",
     "status": "completed"
    },
    "tags": []
   },
   "outputs": [
    {
     "data": {
      "text/html": [
       "<div>\n",
       "<style scoped>\n",
       "    .dataframe tbody tr th:only-of-type {\n",
       "        vertical-align: middle;\n",
       "    }\n",
       "\n",
       "    .dataframe tbody tr th {\n",
       "        vertical-align: top;\n",
       "    }\n",
       "\n",
       "    .dataframe thead th {\n",
       "        text-align: right;\n",
       "    }\n",
       "</style>\n",
       "<table border=\"1\" class=\"dataframe\">\n",
       "  <thead>\n",
       "    <tr style=\"text-align: right;\">\n",
       "      <th></th>\n",
       "      <th>Pregnancies</th>\n",
       "      <th>Glucose</th>\n",
       "      <th>BloodPressure</th>\n",
       "      <th>SkinThickness</th>\n",
       "      <th>Insulin</th>\n",
       "      <th>BMI</th>\n",
       "      <th>DiabetesPedigreeFunction</th>\n",
       "      <th>Age</th>\n",
       "      <th>Outcome</th>\n",
       "    </tr>\n",
       "  </thead>\n",
       "  <tbody>\n",
       "    <tr>\n",
       "      <th>0</th>\n",
       "      <td>6</td>\n",
       "      <td>148</td>\n",
       "      <td>72</td>\n",
       "      <td>35</td>\n",
       "      <td>0</td>\n",
       "      <td>33.6</td>\n",
       "      <td>0.627</td>\n",
       "      <td>50</td>\n",
       "      <td>1</td>\n",
       "    </tr>\n",
       "    <tr>\n",
       "      <th>1</th>\n",
       "      <td>1</td>\n",
       "      <td>85</td>\n",
       "      <td>66</td>\n",
       "      <td>29</td>\n",
       "      <td>0</td>\n",
       "      <td>26.6</td>\n",
       "      <td>0.351</td>\n",
       "      <td>31</td>\n",
       "      <td>0</td>\n",
       "    </tr>\n",
       "    <tr>\n",
       "      <th>2</th>\n",
       "      <td>8</td>\n",
       "      <td>183</td>\n",
       "      <td>64</td>\n",
       "      <td>0</td>\n",
       "      <td>0</td>\n",
       "      <td>23.3</td>\n",
       "      <td>0.672</td>\n",
       "      <td>32</td>\n",
       "      <td>1</td>\n",
       "    </tr>\n",
       "    <tr>\n",
       "      <th>3</th>\n",
       "      <td>1</td>\n",
       "      <td>89</td>\n",
       "      <td>66</td>\n",
       "      <td>23</td>\n",
       "      <td>94</td>\n",
       "      <td>28.1</td>\n",
       "      <td>0.167</td>\n",
       "      <td>21</td>\n",
       "      <td>0</td>\n",
       "    </tr>\n",
       "    <tr>\n",
       "      <th>4</th>\n",
       "      <td>0</td>\n",
       "      <td>137</td>\n",
       "      <td>40</td>\n",
       "      <td>35</td>\n",
       "      <td>168</td>\n",
       "      <td>43.1</td>\n",
       "      <td>2.288</td>\n",
       "      <td>33</td>\n",
       "      <td>1</td>\n",
       "    </tr>\n",
       "  </tbody>\n",
       "</table>\n",
       "</div>"
      ],
      "text/plain": [
       "   Pregnancies  Glucose  BloodPressure  SkinThickness  Insulin   BMI  \\\n",
       "0            6      148             72             35        0  33.6   \n",
       "1            1       85             66             29        0  26.6   \n",
       "2            8      183             64              0        0  23.3   \n",
       "3            1       89             66             23       94  28.1   \n",
       "4            0      137             40             35      168  43.1   \n",
       "\n",
       "   DiabetesPedigreeFunction  Age  Outcome  \n",
       "0                     0.627   50        1  \n",
       "1                     0.351   31        0  \n",
       "2                     0.672   32        1  \n",
       "3                     0.167   21        0  \n",
       "4                     2.288   33        1  "
      ]
     },
     "execution_count": 4,
     "metadata": {},
     "output_type": "execute_result"
    }
   ],
   "source": [
    "df.head()"
   ]
  },
  {
   "cell_type": "code",
   "execution_count": 5,
   "metadata": {
    "execution": {
     "iopub.execute_input": "2021-05-18T11:47:46.278181Z",
     "iopub.status.busy": "2021-05-18T11:47:46.277647Z",
     "iopub.status.idle": "2021-05-18T11:47:46.309841Z",
     "shell.execute_reply": "2021-05-18T11:47:46.310253Z"
    },
    "papermill": {
     "duration": 0.050922,
     "end_time": "2021-05-18T11:47:46.310436",
     "exception": false,
     "start_time": "2021-05-18T11:47:46.259514",
     "status": "completed"
    },
    "tags": []
   },
   "outputs": [
    {
     "data": {
      "text/html": [
       "<div>\n",
       "<style scoped>\n",
       "    .dataframe tbody tr th:only-of-type {\n",
       "        vertical-align: middle;\n",
       "    }\n",
       "\n",
       "    .dataframe tbody tr th {\n",
       "        vertical-align: top;\n",
       "    }\n",
       "\n",
       "    .dataframe thead th {\n",
       "        text-align: right;\n",
       "    }\n",
       "</style>\n",
       "<table border=\"1\" class=\"dataframe\">\n",
       "  <thead>\n",
       "    <tr style=\"text-align: right;\">\n",
       "      <th></th>\n",
       "      <th>Pregnancies</th>\n",
       "      <th>Glucose</th>\n",
       "      <th>BloodPressure</th>\n",
       "      <th>SkinThickness</th>\n",
       "      <th>Insulin</th>\n",
       "      <th>BMI</th>\n",
       "      <th>DiabetesPedigreeFunction</th>\n",
       "      <th>Age</th>\n",
       "      <th>Outcome</th>\n",
       "    </tr>\n",
       "  </thead>\n",
       "  <tbody>\n",
       "    <tr>\n",
       "      <th>count</th>\n",
       "      <td>768.000000</td>\n",
       "      <td>768.000000</td>\n",
       "      <td>768.000000</td>\n",
       "      <td>768.000000</td>\n",
       "      <td>768.000000</td>\n",
       "      <td>768.000000</td>\n",
       "      <td>768.000000</td>\n",
       "      <td>768.000000</td>\n",
       "      <td>768.000000</td>\n",
       "    </tr>\n",
       "    <tr>\n",
       "      <th>mean</th>\n",
       "      <td>3.845052</td>\n",
       "      <td>120.894531</td>\n",
       "      <td>69.105469</td>\n",
       "      <td>20.536458</td>\n",
       "      <td>79.799479</td>\n",
       "      <td>31.992578</td>\n",
       "      <td>0.471876</td>\n",
       "      <td>33.240885</td>\n",
       "      <td>0.348958</td>\n",
       "    </tr>\n",
       "    <tr>\n",
       "      <th>std</th>\n",
       "      <td>3.369578</td>\n",
       "      <td>31.972618</td>\n",
       "      <td>19.355807</td>\n",
       "      <td>15.952218</td>\n",
       "      <td>115.244002</td>\n",
       "      <td>7.884160</td>\n",
       "      <td>0.331329</td>\n",
       "      <td>11.760232</td>\n",
       "      <td>0.476951</td>\n",
       "    </tr>\n",
       "    <tr>\n",
       "      <th>min</th>\n",
       "      <td>0.000000</td>\n",
       "      <td>0.000000</td>\n",
       "      <td>0.000000</td>\n",
       "      <td>0.000000</td>\n",
       "      <td>0.000000</td>\n",
       "      <td>0.000000</td>\n",
       "      <td>0.078000</td>\n",
       "      <td>21.000000</td>\n",
       "      <td>0.000000</td>\n",
       "    </tr>\n",
       "    <tr>\n",
       "      <th>25%</th>\n",
       "      <td>1.000000</td>\n",
       "      <td>99.000000</td>\n",
       "      <td>62.000000</td>\n",
       "      <td>0.000000</td>\n",
       "      <td>0.000000</td>\n",
       "      <td>27.300000</td>\n",
       "      <td>0.243750</td>\n",
       "      <td>24.000000</td>\n",
       "      <td>0.000000</td>\n",
       "    </tr>\n",
       "    <tr>\n",
       "      <th>50%</th>\n",
       "      <td>3.000000</td>\n",
       "      <td>117.000000</td>\n",
       "      <td>72.000000</td>\n",
       "      <td>23.000000</td>\n",
       "      <td>30.500000</td>\n",
       "      <td>32.000000</td>\n",
       "      <td>0.372500</td>\n",
       "      <td>29.000000</td>\n",
       "      <td>0.000000</td>\n",
       "    </tr>\n",
       "    <tr>\n",
       "      <th>75%</th>\n",
       "      <td>6.000000</td>\n",
       "      <td>140.250000</td>\n",
       "      <td>80.000000</td>\n",
       "      <td>32.000000</td>\n",
       "      <td>127.250000</td>\n",
       "      <td>36.600000</td>\n",
       "      <td>0.626250</td>\n",
       "      <td>41.000000</td>\n",
       "      <td>1.000000</td>\n",
       "    </tr>\n",
       "    <tr>\n",
       "      <th>max</th>\n",
       "      <td>17.000000</td>\n",
       "      <td>199.000000</td>\n",
       "      <td>122.000000</td>\n",
       "      <td>99.000000</td>\n",
       "      <td>846.000000</td>\n",
       "      <td>67.100000</td>\n",
       "      <td>2.420000</td>\n",
       "      <td>81.000000</td>\n",
       "      <td>1.000000</td>\n",
       "    </tr>\n",
       "  </tbody>\n",
       "</table>\n",
       "</div>"
      ],
      "text/plain": [
       "       Pregnancies     Glucose  BloodPressure  SkinThickness     Insulin  \\\n",
       "count   768.000000  768.000000     768.000000     768.000000  768.000000   \n",
       "mean      3.845052  120.894531      69.105469      20.536458   79.799479   \n",
       "std       3.369578   31.972618      19.355807      15.952218  115.244002   \n",
       "min       0.000000    0.000000       0.000000       0.000000    0.000000   \n",
       "25%       1.000000   99.000000      62.000000       0.000000    0.000000   \n",
       "50%       3.000000  117.000000      72.000000      23.000000   30.500000   \n",
       "75%       6.000000  140.250000      80.000000      32.000000  127.250000   \n",
       "max      17.000000  199.000000     122.000000      99.000000  846.000000   \n",
       "\n",
       "              BMI  DiabetesPedigreeFunction         Age     Outcome  \n",
       "count  768.000000                768.000000  768.000000  768.000000  \n",
       "mean    31.992578                  0.471876   33.240885    0.348958  \n",
       "std      7.884160                  0.331329   11.760232    0.476951  \n",
       "min      0.000000                  0.078000   21.000000    0.000000  \n",
       "25%     27.300000                  0.243750   24.000000    0.000000  \n",
       "50%     32.000000                  0.372500   29.000000    0.000000  \n",
       "75%     36.600000                  0.626250   41.000000    1.000000  \n",
       "max     67.100000                  2.420000   81.000000    1.000000  "
      ]
     },
     "execution_count": 5,
     "metadata": {},
     "output_type": "execute_result"
    }
   ],
   "source": [
    "df.describe()"
   ]
  },
  {
   "cell_type": "markdown",
   "metadata": {
    "papermill": {
     "duration": 0.016459,
     "end_time": "2021-05-18T11:47:46.344192",
     "exception": false,
     "start_time": "2021-05-18T11:47:46.327733",
     "status": "completed"
    },
    "tags": []
   },
   "source": [
    "Finding null values"
   ]
  },
  {
   "cell_type": "code",
   "execution_count": 6,
   "metadata": {
    "execution": {
     "iopub.execute_input": "2021-05-18T11:47:46.379919Z",
     "iopub.status.busy": "2021-05-18T11:47:46.379379Z",
     "iopub.status.idle": "2021-05-18T11:47:46.386124Z",
     "shell.execute_reply": "2021-05-18T11:47:46.386504Z"
    },
    "papermill": {
     "duration": 0.026093,
     "end_time": "2021-05-18T11:47:46.386686",
     "exception": false,
     "start_time": "2021-05-18T11:47:46.360593",
     "status": "completed"
    },
    "tags": []
   },
   "outputs": [
    {
     "data": {
      "text/plain": [
       "Pregnancies                 0\n",
       "Glucose                     0\n",
       "BloodPressure               0\n",
       "SkinThickness               0\n",
       "Insulin                     0\n",
       "BMI                         0\n",
       "DiabetesPedigreeFunction    0\n",
       "Age                         0\n",
       "Outcome                     0\n",
       "dtype: int64"
      ]
     },
     "execution_count": 6,
     "metadata": {},
     "output_type": "execute_result"
    }
   ],
   "source": [
    "df.isnull().sum()"
   ]
  },
  {
   "cell_type": "markdown",
   "metadata": {
    "papermill": {
     "duration": 0.016278,
     "end_time": "2021-05-18T11:47:46.419713",
     "exception": false,
     "start_time": "2021-05-18T11:47:46.403435",
     "status": "completed"
    },
    "tags": []
   },
   "source": [
    "Making a correlation heat map"
   ]
  },
  {
   "cell_type": "code",
   "execution_count": 7,
   "metadata": {
    "execution": {
     "iopub.execute_input": "2021-05-18T11:47:46.459073Z",
     "iopub.status.busy": "2021-05-18T11:47:46.457255Z",
     "iopub.status.idle": "2021-05-18T11:47:47.092185Z",
     "shell.execute_reply": "2021-05-18T11:47:47.092623Z"
    },
    "papermill": {
     "duration": 0.656275,
     "end_time": "2021-05-18T11:47:47.092782",
     "exception": false,
     "start_time": "2021-05-18T11:47:46.436507",
     "status": "completed"
    },
    "tags": []
   },
   "outputs": [
    {
     "data": {
      "image/png": "[encoded data removed]",
      "text/plain": [
       "<Figure size 1440x1440 with 2 Axes>"
      ]
     },
     "metadata": {
      "needs_background": "light"
     },
     "output_type": "display_data"
    }
   ],
   "source": [
    "cormat=df.corr()\n",
    "plt.figure(figsize=(20,20))\n",
    "g=sns.heatmap(df.corr(),annot=True,cmap=\"RdYlGn\")"
   ]
  },
  {
   "cell_type": "markdown",
   "metadata": {
    "papermill": {
     "duration": 0.018396,
     "end_time": "2021-05-18T11:47:47.130812",
     "exception": false,
     "start_time": "2021-05-18T11:47:47.112416",
     "status": "completed"
    },
    "tags": []
   },
   "source": [
    "Finding the number of positive or negative outcomes of the data for diabetes"
   ]
  },
  {
   "cell_type": "code",
   "execution_count": 8,
   "metadata": {
    "execution": {
     "iopub.execute_input": "2021-05-18T11:47:47.171197Z",
     "iopub.status.busy": "2021-05-18T11:47:47.170676Z",
     "iopub.status.idle": "2021-05-18T11:47:47.177564Z",
     "shell.execute_reply": "2021-05-18T11:47:47.177985Z"
    },
    "papermill": {
     "duration": 0.028449,
     "end_time": "2021-05-18T11:47:47.178136",
     "exception": false,
     "start_time": "2021-05-18T11:47:47.149687",
     "status": "completed"
    },
    "tags": []
   },
   "outputs": [
    {
     "data": {
      "text/plain": [
       "0    500\n",
       "1    268\n",
       "Name: Outcome, dtype: int64"
      ]
     },
     "execution_count": 8,
     "metadata": {},
     "output_type": "execute_result"
    }
   ],
   "source": [
    "df.Outcome.value_counts()"
   ]
  },
  {
   "cell_type": "markdown",
   "metadata": {
    "papermill": {
     "duration": 0.018436,
     "end_time": "2021-05-18T11:47:47.215514",
     "exception": false,
     "start_time": "2021-05-18T11:47:47.197078",
     "status": "completed"
    },
    "tags": []
   },
   "source": [
    "Splitting the data for model"
   ]
  },
  {
   "cell_type": "code",
   "execution_count": 9,
   "metadata": {
    "execution": {
     "iopub.execute_input": "2021-05-18T11:47:47.256038Z",
     "iopub.status.busy": "2021-05-18T11:47:47.255470Z",
     "iopub.status.idle": "2021-05-18T11:47:47.463436Z",
     "shell.execute_reply": "2021-05-18T11:47:47.462958Z"
    },
    "papermill": {
     "duration": 0.229271,
     "end_time": "2021-05-18T11:47:47.463572",
     "exception": false,
     "start_time": "2021-05-18T11:47:47.234301",
     "status": "completed"
    },
    "tags": []
   },
   "outputs": [],
   "source": [
    "from sklearn.model_selection import train_test_split"
   ]
  },
  {
   "cell_type": "markdown",
   "metadata": {
    "papermill": {
     "duration": 0.018696,
     "end_time": "2021-05-18T11:47:47.501458",
     "exception": false,
     "start_time": "2021-05-18T11:47:47.482762",
     "status": "completed"
    },
    "tags": []
   },
   "source": [
    "Making our features and targets"
   ]
  },
  {
   "cell_type": "code",
   "execution_count": 10,
   "metadata": {
    "execution": {
     "iopub.execute_input": "2021-05-18T11:47:47.546241Z",
     "iopub.status.busy": "2021-05-18T11:47:47.545584Z",
     "iopub.status.idle": "2021-05-18T11:47:47.548298Z",
     "shell.execute_reply": "2021-05-18T11:47:47.547724Z"
    },
    "papermill": {
     "duration": 0.02818,
     "end_time": "2021-05-18T11:47:47.548431",
     "exception": false,
     "start_time": "2021-05-18T11:47:47.520251",
     "status": "completed"
    },
    "tags": []
   },
   "outputs": [],
   "source": [
    "X=df.drop('Outcome',axis=1)\n",
    "y=df.Outcome"
   ]
  },
  {
   "cell_type": "markdown",
   "metadata": {
    "papermill": {
     "duration": 0.019248,
     "end_time": "2021-05-18T11:47:47.587123",
     "exception": false,
     "start_time": "2021-05-18T11:47:47.567875",
     "status": "completed"
    },
    "tags": []
   },
   "source": [
    "Splitting the data  into train and test"
   ]
  },
  {
   "cell_type": "code",
   "execution_count": 11,
   "metadata": {
    "execution": {
     "iopub.execute_input": "2021-05-18T11:47:47.631593Z",
     "iopub.status.busy": "2021-05-18T11:47:47.630541Z",
     "iopub.status.idle": "2021-05-18T11:47:47.634946Z",
     "shell.execute_reply": "2021-05-18T11:47:47.634511Z"
    },
    "papermill": {
     "duration": 0.028525,
     "end_time": "2021-05-18T11:47:47.635072",
     "exception": false,
     "start_time": "2021-05-18T11:47:47.606547",
     "status": "completed"
    },
    "tags": []
   },
   "outputs": [],
   "source": [
    "X_train, X_test, y_train, y_test = train_test_split(X, y, test_size = 0.30, random_state=10)"
   ]
  },
  {
   "cell_type": "markdown",
   "metadata": {
    "papermill": {
     "duration": 0.019439,
     "end_time": "2021-05-18T11:47:47.674532",
     "exception": false,
     "start_time": "2021-05-18T11:47:47.655093",
     "status": "completed"
    },
    "tags": []
   },
   "source": [
    "Finding values that are 0"
   ]
  },
  {
   "cell_type": "code",
   "execution_count": 12,
   "metadata": {
    "execution": {
     "iopub.execute_input": "2021-05-18T11:47:47.718319Z",
     "iopub.status.busy": "2021-05-18T11:47:47.717825Z",
     "iopub.status.idle": "2021-05-18T11:47:47.740477Z",
     "shell.execute_reply": "2021-05-18T11:47:47.740863Z"
    },
    "papermill": {
     "duration": 0.046668,
     "end_time": "2021-05-18T11:47:47.741020",
     "exception": false,
     "start_time": "2021-05-18T11:47:47.694352",
     "status": "completed"
    },
    "tags": []
   },
   "outputs": [
    {
     "data": {
      "text/plain": [
       "Pregnancies\n",
       "False    657\n",
       "True     111\n",
       "dtype: int64"
      ]
     },
     "execution_count": 12,
     "metadata": {},
     "output_type": "execute_result"
    }
   ],
   "source": [
    "df.value_counts(df['Pregnancies']==0)"
   ]
  },
  {
   "cell_type": "markdown",
   "metadata": {
    "papermill": {
     "duration": 0.019141,
     "end_time": "2021-05-18T11:47:47.779863",
     "exception": false,
     "start_time": "2021-05-18T11:47:47.760722",
     "status": "completed"
    },
    "tags": []
   },
   "source": [
    "Entries that have values as 0 can negatively affect the model. To replace those values we are using impute."
   ]
  },
  {
   "cell_type": "code",
   "execution_count": 13,
   "metadata": {
    "execution": {
     "iopub.execute_input": "2021-05-18T11:47:47.822044Z",
     "iopub.status.busy": "2021-05-18T11:47:47.821504Z",
     "iopub.status.idle": "2021-05-18T11:47:47.986434Z",
     "shell.execute_reply": "2021-05-18T11:47:47.986896Z"
    },
    "papermill": {
     "duration": 0.187387,
     "end_time": "2021-05-18T11:47:47.987067",
     "exception": false,
     "start_time": "2021-05-18T11:47:47.799680",
     "status": "completed"
    },
    "tags": []
   },
   "outputs": [],
   "source": [
    "from sklearn.impute import SimpleImputer"
   ]
  },
  {
   "cell_type": "markdown",
   "metadata": {
    "papermill": {
     "duration": 0.019339,
     "end_time": "2021-05-18T11:47:48.026125",
     "exception": false,
     "start_time": "2021-05-18T11:47:48.006786",
     "status": "completed"
    },
    "tags": []
   },
   "source": [
    "We are filling the values with mean of the column."
   ]
  },
  {
   "cell_type": "code",
   "execution_count": 14,
   "metadata": {
    "execution": {
     "iopub.execute_input": "2021-05-18T11:47:48.068455Z",
     "iopub.status.busy": "2021-05-18T11:47:48.067922Z",
     "iopub.status.idle": "2021-05-18T11:47:48.071350Z",
     "shell.execute_reply": "2021-05-18T11:47:48.071771Z"
    },
    "papermill": {
     "duration": 0.026114,
     "end_time": "2021-05-18T11:47:48.071923",
     "exception": false,
     "start_time": "2021-05-18T11:47:48.045809",
     "status": "completed"
    },
    "tags": []
   },
   "outputs": [],
   "source": [
    "fill_values = SimpleImputer(missing_values=0, strategy=\"mean\")"
   ]
  },
  {
   "cell_type": "code",
   "execution_count": 15,
   "metadata": {
    "execution": {
     "iopub.execute_input": "2021-05-18T11:47:48.115334Z",
     "iopub.status.busy": "2021-05-18T11:47:48.114816Z",
     "iopub.status.idle": "2021-05-18T11:47:48.126177Z",
     "shell.execute_reply": "2021-05-18T11:47:48.126628Z"
    },
    "papermill": {
     "duration": 0.034841,
     "end_time": "2021-05-18T11:47:48.126797",
     "exception": false,
     "start_time": "2021-05-18T11:47:48.091956",
     "status": "completed"
    },
    "tags": []
   },
   "outputs": [],
   "source": [
    "X_train = fill_values.fit_transform(X_train)\n",
    "X_test = fill_values.fit_transform(X_test)"
   ]
  },
  {
   "cell_type": "markdown",
   "metadata": {
    "papermill": {
     "duration": 0.020067,
     "end_time": "2021-05-18T11:47:48.167365",
     "exception": false,
     "start_time": "2021-05-18T11:47:48.147298",
     "status": "completed"
    },
    "tags": []
   },
   "source": [
    "# Part-2 Working on the model."
   ]
  },
  {
   "cell_type": "markdown",
   "metadata": {
    "papermill": {
     "duration": 0.021651,
     "end_time": "2021-05-18T11:47:48.210871",
     "exception": false,
     "start_time": "2021-05-18T11:47:48.189220",
     "status": "completed"
    },
    "tags": []
   },
   "source": [
    "Importing the required library for Random Forest Classifier"
   ]
  },
  {
   "cell_type": "code",
   "execution_count": 16,
   "metadata": {
    "execution": {
     "iopub.execute_input": "2021-05-18T11:47:48.255706Z",
     "iopub.status.busy": "2021-05-18T11:47:48.255131Z",
     "iopub.status.idle": "2021-05-18T11:47:48.322642Z",
     "shell.execute_reply": "2021-05-18T11:47:48.323058Z"
    },
    "papermill": {
     "duration": 0.091231,
     "end_time": "2021-05-18T11:47:48.323228",
     "exception": false,
     "start_time": "2021-05-18T11:47:48.231997",
     "status": "completed"
    },
    "tags": []
   },
   "outputs": [],
   "source": [
    "from sklearn.ensemble import RandomForestClassifier\n"
   ]
  },
  {
   "cell_type": "markdown",
   "metadata": {
    "papermill": {
     "duration": 0.019614,
     "end_time": "2021-05-18T11:47:48.363095",
     "exception": false,
     "start_time": "2021-05-18T11:47:48.343481",
     "status": "completed"
    },
    "tags": []
   },
   "source": [
    "Fitting the model"
   ]
  },
  {
   "cell_type": "code",
   "execution_count": 17,
   "metadata": {
    "execution": {
     "iopub.execute_input": "2021-05-18T11:47:48.405469Z",
     "iopub.status.busy": "2021-05-18T11:47:48.404933Z",
     "iopub.status.idle": "2021-05-18T11:47:48.576435Z",
     "shell.execute_reply": "2021-05-18T11:47:48.575892Z"
    },
    "papermill": {
     "duration": 0.193708,
     "end_time": "2021-05-18T11:47:48.576556",
     "exception": false,
     "start_time": "2021-05-18T11:47:48.382848",
     "status": "completed"
    },
    "tags": []
   },
   "outputs": [
    {
     "data": {
      "text/plain": [
       "RandomForestClassifier(random_state=10)"
      ]
     },
     "execution_count": 17,
     "metadata": {},
     "output_type": "execute_result"
    }
   ],
   "source": [
    "random_forest_model = RandomForestClassifier(random_state=10)\n",
    "\n",
    "random_forest_model.fit(X_train, y_train.ravel())"
   ]
  },
  {
   "cell_type": "markdown",
   "metadata": {
    "papermill": {
     "duration": 0.021179,
     "end_time": "2021-05-18T11:47:48.618365",
     "exception": false,
     "start_time": "2021-05-18T11:47:48.597186",
     "status": "completed"
    },
    "tags": []
   },
   "source": [
    "Predicting the test values from the model."
   ]
  },
  {
   "cell_type": "code",
   "execution_count": 18,
   "metadata": {
    "execution": {
     "iopub.execute_input": "2021-05-18T11:47:48.664777Z",
     "iopub.status.busy": "2021-05-18T11:47:48.664207Z",
     "iopub.status.idle": "2021-05-18T11:47:48.678955Z",
     "shell.execute_reply": "2021-05-18T11:47:48.679353Z"
    },
    "papermill": {
     "duration": 0.040306,
     "end_time": "2021-05-18T11:47:48.679517",
     "exception": false,
     "start_time": "2021-05-18T11:47:48.639211",
     "status": "completed"
    },
    "tags": []
   },
   "outputs": [],
   "source": [
    "predict_train_data = random_forest_model.predict(X_test)\n",
    "\n"
   ]
  },
  {
   "cell_type": "markdown",
   "metadata": {
    "papermill": {
     "duration": 0.020298,
     "end_time": "2021-05-18T11:47:48.720225",
     "exception": false,
     "start_time": "2021-05-18T11:47:48.699927",
     "status": "completed"
    },
    "tags": []
   },
   "source": [
    "Evaluating the model"
   ]
  },
  {
   "cell_type": "code",
   "execution_count": 19,
   "metadata": {
    "execution": {
     "iopub.execute_input": "2021-05-18T11:47:48.764349Z",
     "iopub.status.busy": "2021-05-18T11:47:48.763497Z",
     "iopub.status.idle": "2021-05-18T11:47:48.768975Z",
     "shell.execute_reply": "2021-05-18T11:47:48.769458Z"
    },
    "papermill": {
     "duration": 0.028901,
     "end_time": "2021-05-18T11:47:48.769621",
     "exception": false,
     "start_time": "2021-05-18T11:47:48.740720",
     "status": "completed"
    },
    "tags": []
   },
   "outputs": [
    {
     "name": "stdout",
     "output_type": "stream",
     "text": [
      "Accuracy = 0.766\n"
     ]
    }
   ],
   "source": [
    "from sklearn import metrics\n",
    "\n",
    "print(\"Accuracy = {0:.3f}\".format(metrics.accuracy_score(y_test, predict_train_data)))"
   ]
  },
  {
   "cell_type": "code",
   "execution_count": 20,
   "metadata": {
    "execution": {
     "iopub.execute_input": "2021-05-18T11:47:48.813574Z",
     "iopub.status.busy": "2021-05-18T11:47:48.813029Z",
     "iopub.status.idle": "2021-05-18T11:47:48.821351Z",
     "shell.execute_reply": "2021-05-18T11:47:48.820894Z"
    },
    "papermill": {
     "duration": 0.031358,
     "end_time": "2021-05-18T11:47:48.821511",
     "exception": false,
     "start_time": "2021-05-18T11:47:48.790153",
     "status": "completed"
    },
    "tags": []
   },
   "outputs": [
    {
     "data": {
      "text/plain": [
       "array([[130,  14],\n",
       "       [ 40,  47]])"
      ]
     },
     "execution_count": 20,
     "metadata": {},
     "output_type": "execute_result"
    }
   ],
   "source": [
    "metrics.confusion_matrix(y_test,predict_train_data)"
   ]
  }
 ],
 "metadata": {
  "kernelspec": {
   "display_name": "Python 3",
   "language": "python",
   "name": "python3"
  },
  "language_info": {
   "codemirror_mode": {
    "name": "ipython",
    "version": 3
   },
   "file_extension": ".py",
   "mimetype": "text/x-python",
   "name": "python",
   "nbconvert_exporter": "python",
   "pygments_lexer": "ipython3",
   "version": "3.8.5"
  },
  "papermill": {
   "default_parameters": {},
   "duration": 9.526267,
   "end_time": "2021-05-18T11:47:49.450905",
   "environment_variables": {},
   "exception": null,
   "input_path": "__notebook__.ipynb",
   "output_path": "__notebook__.ipynb",
   "parameters": {},
   "start_time": "2021-05-18T11:47:39.924638",
   "version": "2.3.2"
  }
 },
 "nbformat": 4,
 "nbformat_minor": 5
}
